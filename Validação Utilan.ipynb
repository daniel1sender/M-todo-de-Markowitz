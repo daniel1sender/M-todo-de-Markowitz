{
 "cells": [
  {
   "cell_type": "code",
   "execution_count": 2,
   "metadata": {},
   "outputs": [],
   "source": [
    "import numpy as np\n",
    "import pandas as pd\n",
    "import matplotlib.pyplot as plt\n",
    "from pandas_datareader import data as pdr"
   ]
  },
  {
   "cell_type": "code",
   "execution_count": 3,
   "metadata": {},
   "outputs": [],
   "source": [
    "ações = ['VALE5.SA', 'USIM5.SA', 'PETR3.SA', 'CSNA3.SA', 'BBAS3.SA', 'CMIG4.SA', 'CESP6.SA']\n",
    "carteira = pd.DataFrame()\n",
    "for i in ações:\n",
    "    carteira[i] = pdr.DataReader(i, data_source='yahoo', start='2008-01-01', end='2008-01-31')['Adj Close']"
   ]
  },
  {
   "cell_type": "code",
   "execution_count": 4,
   "metadata": {},
   "outputs": [
    {
     "data": {
      "text/html": [
       "<div>\n",
       "<style scoped>\n",
       "    .dataframe tbody tr th:only-of-type {\n",
       "        vertical-align: middle;\n",
       "    }\n",
       "\n",
       "    .dataframe tbody tr th {\n",
       "        vertical-align: top;\n",
       "    }\n",
       "\n",
       "    .dataframe thead th {\n",
       "        text-align: right;\n",
       "    }\n",
       "</style>\n",
       "<table border=\"1\" class=\"dataframe\">\n",
       "  <thead>\n",
       "    <tr style=\"text-align: right;\">\n",
       "      <th></th>\n",
       "      <th>VALE5.SA</th>\n",
       "      <th>USIM5.SA</th>\n",
       "      <th>PETR3.SA</th>\n",
       "      <th>CSNA3.SA</th>\n",
       "      <th>BBAS3.SA</th>\n",
       "      <th>CMIG4.SA</th>\n",
       "      <th>CESP6.SA</th>\n",
       "    </tr>\n",
       "    <tr>\n",
       "      <th>Date</th>\n",
       "      <th></th>\n",
       "      <th></th>\n",
       "      <th></th>\n",
       "      <th></th>\n",
       "      <th></th>\n",
       "      <th></th>\n",
       "      <th></th>\n",
       "    </tr>\n",
       "  </thead>\n",
       "  <tbody>\n",
       "    <tr>\n",
       "      <th>2008-01-02</th>\n",
       "      <td>NaN</td>\n",
       "      <td>NaN</td>\n",
       "      <td>NaN</td>\n",
       "      <td>NaN</td>\n",
       "      <td>NaN</td>\n",
       "      <td>NaN</td>\n",
       "      <td>NaN</td>\n",
       "    </tr>\n",
       "    <tr>\n",
       "      <th>2008-01-03</th>\n",
       "      <td>0.014199</td>\n",
       "      <td>-0.007362</td>\n",
       "      <td>-0.014476</td>\n",
       "      <td>0.021159</td>\n",
       "      <td>-0.015101</td>\n",
       "      <td>-0.006041</td>\n",
       "      <td>0.072755</td>\n",
       "    </tr>\n",
       "    <tr>\n",
       "      <th>2008-01-04</th>\n",
       "      <td>-0.035800</td>\n",
       "      <td>-0.029666</td>\n",
       "      <td>-0.059339</td>\n",
       "      <td>-0.032154</td>\n",
       "      <td>-0.011585</td>\n",
       "      <td>-0.021278</td>\n",
       "      <td>-0.035641</td>\n",
       "    </tr>\n",
       "    <tr>\n",
       "      <th>2008-01-07</th>\n",
       "      <td>-0.014520</td>\n",
       "      <td>-0.048408</td>\n",
       "      <td>-0.034333</td>\n",
       "      <td>-0.032700</td>\n",
       "      <td>0.023785</td>\n",
       "      <td>0.005903</td>\n",
       "      <td>-0.030623</td>\n",
       "    </tr>\n",
       "    <tr>\n",
       "      <th>2008-01-08</th>\n",
       "      <td>0.018733</td>\n",
       "      <td>0.000000</td>\n",
       "      <td>0.060185</td>\n",
       "      <td>0.018893</td>\n",
       "      <td>0.020539</td>\n",
       "      <td>0.000000</td>\n",
       "      <td>0.025926</td>\n",
       "    </tr>\n",
       "    <tr>\n",
       "      <th>2008-01-09</th>\n",
       "      <td>0.002066</td>\n",
       "      <td>0.067336</td>\n",
       "      <td>0.016970</td>\n",
       "      <td>-0.013245</td>\n",
       "      <td>0.017816</td>\n",
       "      <td>0.065141</td>\n",
       "      <td>0.019750</td>\n",
       "    </tr>\n",
       "    <tr>\n",
       "      <th>2008-01-10</th>\n",
       "      <td>0.030928</td>\n",
       "      <td>-0.021698</td>\n",
       "      <td>-0.020660</td>\n",
       "      <td>0.036913</td>\n",
       "      <td>0.028849</td>\n",
       "      <td>-0.005796</td>\n",
       "      <td>-0.006664</td>\n",
       "    </tr>\n",
       "    <tr>\n",
       "      <th>2008-01-11</th>\n",
       "      <td>-0.031600</td>\n",
       "      <td>-0.024744</td>\n",
       "      <td>-0.016227</td>\n",
       "      <td>-0.025890</td>\n",
       "      <td>-0.051039</td>\n",
       "      <td>-0.030031</td>\n",
       "      <td>-0.053459</td>\n",
       "    </tr>\n",
       "    <tr>\n",
       "      <th>2008-01-14</th>\n",
       "      <td>0.009500</td>\n",
       "      <td>0.056921</td>\n",
       "      <td>-0.005154</td>\n",
       "      <td>0.021861</td>\n",
       "      <td>-0.003985</td>\n",
       "      <td>-0.005409</td>\n",
       "      <td>0.029236</td>\n",
       "    </tr>\n",
       "    <tr>\n",
       "      <th>2008-01-15</th>\n",
       "      <td>-0.032324</td>\n",
       "      <td>-0.017289</td>\n",
       "      <td>-0.048705</td>\n",
       "      <td>-0.024644</td>\n",
       "      <td>-0.023000</td>\n",
       "      <td>-0.037777</td>\n",
       "      <td>-0.033785</td>\n",
       "    </tr>\n",
       "    <tr>\n",
       "      <th>2008-01-16</th>\n",
       "      <td>-0.041226</td>\n",
       "      <td>0.005569</td>\n",
       "      <td>-0.043573</td>\n",
       "      <td>-0.055266</td>\n",
       "      <td>-0.000341</td>\n",
       "      <td>0.009736</td>\n",
       "      <td>-0.020045</td>\n",
       "    </tr>\n",
       "    <tr>\n",
       "      <th>2008-01-17</th>\n",
       "      <td>0.007718</td>\n",
       "      <td>-0.048458</td>\n",
       "      <td>-0.053417</td>\n",
       "      <td>-0.019053</td>\n",
       "      <td>-0.010580</td>\n",
       "      <td>-0.026750</td>\n",
       "      <td>0.000000</td>\n",
       "    </tr>\n",
       "    <tr>\n",
       "      <th>2008-01-18</th>\n",
       "      <td>0.025602</td>\n",
       "      <td>0.068783</td>\n",
       "      <td>0.015522</td>\n",
       "      <td>0.028703</td>\n",
       "      <td>-0.015178</td>\n",
       "      <td>0.003517</td>\n",
       "      <td>0.000000</td>\n",
       "    </tr>\n",
       "    <tr>\n",
       "      <th>2008-01-22</th>\n",
       "      <td>-0.077235</td>\n",
       "      <td>-0.059406</td>\n",
       "      <td>0.022038</td>\n",
       "      <td>0.006993</td>\n",
       "      <td>0.005255</td>\n",
       "      <td>-0.031212</td>\n",
       "      <td>-0.007045</td>\n",
       "    </tr>\n",
       "    <tr>\n",
       "      <th>2008-01-23</th>\n",
       "      <td>-0.061041</td>\n",
       "      <td>-0.064474</td>\n",
       "      <td>-0.019244</td>\n",
       "      <td>-0.041667</td>\n",
       "      <td>-0.045296</td>\n",
       "      <td>-0.043391</td>\n",
       "      <td>0.016251</td>\n",
       "    </tr>\n",
       "    <tr>\n",
       "      <th>2008-01-24</th>\n",
       "      <td>0.076090</td>\n",
       "      <td>0.068917</td>\n",
       "      <td>0.078014</td>\n",
       "      <td>0.100000</td>\n",
       "      <td>0.074816</td>\n",
       "      <td>0.030928</td>\n",
       "      <td>-0.013513</td>\n",
       "    </tr>\n",
       "    <tr>\n",
       "      <th>2008-01-25</th>\n",
       "      <td>0.000000</td>\n",
       "      <td>0.000000</td>\n",
       "      <td>0.000000</td>\n",
       "      <td>0.000000</td>\n",
       "      <td>0.000000</td>\n",
       "      <td>0.000000</td>\n",
       "      <td>0.000000</td>\n",
       "    </tr>\n",
       "    <tr>\n",
       "      <th>2008-01-28</th>\n",
       "      <td>0.006865</td>\n",
       "      <td>0.019737</td>\n",
       "      <td>0.064912</td>\n",
       "      <td>0.051383</td>\n",
       "      <td>-0.011884</td>\n",
       "      <td>-0.021001</td>\n",
       "      <td>-0.006849</td>\n",
       "    </tr>\n",
       "    <tr>\n",
       "      <th>2008-01-29</th>\n",
       "      <td>0.005682</td>\n",
       "      <td>0.040645</td>\n",
       "      <td>-0.001236</td>\n",
       "      <td>0.014474</td>\n",
       "      <td>0.020619</td>\n",
       "      <td>-0.002384</td>\n",
       "      <td>-0.011494</td>\n",
       "    </tr>\n",
       "    <tr>\n",
       "      <th>2008-01-30</th>\n",
       "      <td>0.021695</td>\n",
       "      <td>0.022939</td>\n",
       "      <td>0.025258</td>\n",
       "      <td>0.016120</td>\n",
       "      <td>0.023569</td>\n",
       "      <td>-0.032424</td>\n",
       "      <td>-0.005116</td>\n",
       "    </tr>\n",
       "    <tr>\n",
       "      <th>2008-01-31</th>\n",
       "      <td>-0.009733</td>\n",
       "      <td>0.000000</td>\n",
       "      <td>-0.030669</td>\n",
       "      <td>0.002917</td>\n",
       "      <td>-0.037829</td>\n",
       "      <td>-0.013754</td>\n",
       "      <td>0.063581</td>\n",
       "    </tr>\n",
       "  </tbody>\n",
       "</table>\n",
       "</div>"
      ],
      "text/plain": [
       "            VALE5.SA  USIM5.SA  PETR3.SA  CSNA3.SA  BBAS3.SA  CMIG4.SA  \\\n",
       "Date                                                                     \n",
       "2008-01-02       NaN       NaN       NaN       NaN       NaN       NaN   \n",
       "2008-01-03  0.014199 -0.007362 -0.014476  0.021159 -0.015101 -0.006041   \n",
       "2008-01-04 -0.035800 -0.029666 -0.059339 -0.032154 -0.011585 -0.021278   \n",
       "2008-01-07 -0.014520 -0.048408 -0.034333 -0.032700  0.023785  0.005903   \n",
       "2008-01-08  0.018733  0.000000  0.060185  0.018893  0.020539  0.000000   \n",
       "2008-01-09  0.002066  0.067336  0.016970 -0.013245  0.017816  0.065141   \n",
       "2008-01-10  0.030928 -0.021698 -0.020660  0.036913  0.028849 -0.005796   \n",
       "2008-01-11 -0.031600 -0.024744 -0.016227 -0.025890 -0.051039 -0.030031   \n",
       "2008-01-14  0.009500  0.056921 -0.005154  0.021861 -0.003985 -0.005409   \n",
       "2008-01-15 -0.032324 -0.017289 -0.048705 -0.024644 -0.023000 -0.037777   \n",
       "2008-01-16 -0.041226  0.005569 -0.043573 -0.055266 -0.000341  0.009736   \n",
       "2008-01-17  0.007718 -0.048458 -0.053417 -0.019053 -0.010580 -0.026750   \n",
       "2008-01-18  0.025602  0.068783  0.015522  0.028703 -0.015178  0.003517   \n",
       "2008-01-22 -0.077235 -0.059406  0.022038  0.006993  0.005255 -0.031212   \n",
       "2008-01-23 -0.061041 -0.064474 -0.019244 -0.041667 -0.045296 -0.043391   \n",
       "2008-01-24  0.076090  0.068917  0.078014  0.100000  0.074816  0.030928   \n",
       "2008-01-25  0.000000  0.000000  0.000000  0.000000  0.000000  0.000000   \n",
       "2008-01-28  0.006865  0.019737  0.064912  0.051383 -0.011884 -0.021001   \n",
       "2008-01-29  0.005682  0.040645 -0.001236  0.014474  0.020619 -0.002384   \n",
       "2008-01-30  0.021695  0.022939  0.025258  0.016120  0.023569 -0.032424   \n",
       "2008-01-31 -0.009733  0.000000 -0.030669  0.002917 -0.037829 -0.013754   \n",
       "\n",
       "            CESP6.SA  \n",
       "Date                  \n",
       "2008-01-02       NaN  \n",
       "2008-01-03  0.072755  \n",
       "2008-01-04 -0.035641  \n",
       "2008-01-07 -0.030623  \n",
       "2008-01-08  0.025926  \n",
       "2008-01-09  0.019750  \n",
       "2008-01-10 -0.006664  \n",
       "2008-01-11 -0.053459  \n",
       "2008-01-14  0.029236  \n",
       "2008-01-15 -0.033785  \n",
       "2008-01-16 -0.020045  \n",
       "2008-01-17  0.000000  \n",
       "2008-01-18  0.000000  \n",
       "2008-01-22 -0.007045  \n",
       "2008-01-23  0.016251  \n",
       "2008-01-24 -0.013513  \n",
       "2008-01-25  0.000000  \n",
       "2008-01-28 -0.006849  \n",
       "2008-01-29 -0.011494  \n",
       "2008-01-30 -0.005116  \n",
       "2008-01-31  0.063581  "
      ]
     },
     "execution_count": 4,
     "metadata": {},
     "output_type": "execute_result"
    }
   ],
   "source": [
    "retorno = carteira.pct_change()\n",
    "retorno"
   ]
  },
  {
   "cell_type": "code",
   "execution_count": 5,
   "metadata": {},
   "outputs": [
    {
     "data": {
      "text/plain": [
       "VALE5.SA   -0.084401\n",
       "USIM5.SA    0.029343\n",
       "PETR3.SA   -0.064134\n",
       "CSNA3.SA    0.074796\n",
       "BBAS3.SA   -0.010570\n",
       "CMIG4.SA   -0.162021\n",
       "CESP6.SA    0.003262\n",
       "dtype: float64"
      ]
     },
     "execution_count": 5,
     "metadata": {},
     "output_type": "execute_result"
    }
   ],
   "source": [
    "retorno_anual = retorno.mean() * 20\n",
    "retorno_anual "
   ]
  },
  {
   "cell_type": "code",
   "execution_count": 6,
   "metadata": {},
   "outputs": [
    {
     "data": {
      "text/plain": [
       "1.0"
      ]
     },
     "execution_count": 6,
     "metadata": {},
     "output_type": "execute_result"
    }
   ],
   "source": [
    "peso = np.array([0.373, 0.0775, 0.1860, 0.0113, 0.0328, 0.2458, 0.0736])\n",
    "peso.sum()"
   ]
  },
  {
   "cell_type": "code",
   "execution_count": 7,
   "metadata": {},
   "outputs": [
    {
     "data": {
      "text/plain": [
       "-0.08022288285881936"
      ]
     },
     "execution_count": 7,
     "metadata": {},
     "output_type": "execute_result"
    }
   ],
   "source": [
    "retorno_esperado = np.dot(peso, retorno_anual)\n",
    "retorno_esperado"
   ]
  },
  {
   "cell_type": "code",
   "execution_count": 35,
   "metadata": {},
   "outputs": [
    {
     "data": {
      "text/plain": [
       "0.2760637345883754"
      ]
     },
     "execution_count": 35,
     "metadata": {},
     "output_type": "execute_result"
    }
   ],
   "source": [
    "volatilidade = np.sqrt(np.dot(peso.T, np.dot(cov,peso)))\n",
    "volatilidade"
   ]
  },
  {
   "cell_type": "code",
   "execution_count": 36,
   "metadata": {},
   "outputs": [
    {
     "data": {
      "text/plain": [
       "1.9034738825975341"
      ]
     },
     "execution_count": 36,
     "metadata": {},
     "output_type": "execute_result"
    }
   ],
   "source": [
    "sharpe = retorno_esperado/volatilidade\n",
    "sharpe"
   ]
  },
  {
   "cell_type": "code",
   "execution_count": null,
   "metadata": {},
   "outputs": [],
   "source": []
  }
 ],
 "metadata": {
  "kernelspec": {
   "display_name": "Python 3",
   "language": "python",
   "name": "python3"
  },
  "language_info": {
   "codemirror_mode": {
    "name": "ipython",
    "version": 3
   },
   "file_extension": ".py",
   "mimetype": "text/x-python",
   "name": "python",
   "nbconvert_exporter": "python",
   "pygments_lexer": "ipython3",
   "version": "3.8.3"
  }
 },
 "nbformat": 4,
 "nbformat_minor": 4
}
